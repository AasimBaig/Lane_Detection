{
 "cells": [
  {
   "cell_type": "code",
   "execution_count": 1,
   "metadata": {},
   "outputs": [],
   "source": [
    "import numpy as np\n",
    "import cv2\n",
    "import matplotlib.pyplot as plt"
   ]
  },
  {
   "cell_type": "code",
   "execution_count": 3,
   "metadata": {},
   "outputs": [],
   "source": [
    "# converts rgb image to grayscale\n",
    "def grayscale_image(img):\n",
    "    return cv2.cvtColor(img, cv2.COLOR_RGB2GRAY)"
   ]
  },
  {
   "cell_type": "code",
   "execution_count": 11,
   "metadata": {},
   "outputs": [],
   "source": [
    "# prints image dimensions and plot the image\n",
    "def show_image(img, cmap='viridis'):\n",
    "    print(\" Image Dimensions : {}\".format(img.shape))\n",
    "    plt.figure(figsize=(12,8))\n",
    "    plt.imshow(img, cmap=cmap)"
   ]
  },
  {
   "cell_type": "code",
   "execution_count": 5,
   "metadata": {},
   "outputs": [],
   "source": [
    "# returns canny image with appropiate threshold levels\n",
    "def canny_image(img, low_threshold, high_threshold):\n",
    "    return cv2.Canny(img, low_threshold, high_threshold)"
   ]
  },
  {
   "cell_type": "code",
   "execution_count": 6,
   "metadata": {},
   "outputs": [],
   "source": [
    "# returns blurred image (gaussian blur)\n",
    "def blur_image(img, kernelsize):\n",
    "    return cv2.GaussianBlur(img, (kernelsize, kernelsize), 0)"
   ]
  },
  {
   "cell_type": "code",
   "execution_count": 7,
   "metadata": {},
   "outputs": [],
   "source": [
    "# return HSV - hue, saturation, valued image\n",
    "def hsv_image(img):\n",
    "    return cv2.cvtColor(img, cv2.COLOR_RGB2HSV)"
   ]
  },
  {
   "cell_type": "code",
   "execution_count": 15,
   "metadata": {},
   "outputs": [],
   "source": [
    "# return filtered image\n",
    "def filter_image(img):\n",
    "    # GET WHITE MASK\n",
    "    processed_img = grayscale_image(img)\n",
    "    # we get white mask\n",
    "    white_mask = cv2.inRange(processed_img, 200, 255)\n",
    "    \n",
    "    # now lets convert image to hsv model to get low and high yellow values\n",
    "    \n",
    "    processed_img = hsv_image(img)\n",
    "    \n",
    "    # https://i.stack.imgur.com/TSKh8.png <- to get hsv values\n",
    "    # lower hsv for yellow \n",
    "    lower = np.array([15,100,100], dtype='uint8')\n",
    "    # higher hsv for yellow\n",
    "    higher = np.array([75, 255, 255], dtype='uint8')\n",
    "    \n",
    "    # yellow mask obtained :D\n",
    "    yellow_mask = cv2.inRange(processed_img, lower, higher)\n",
    "    \n",
    "    \n",
    "    # bitwise 'OR' to get best of both world\n",
    "    masked = cv2.bitwise_or(white_mask, yellow_mask)\n",
    "    \n",
    "    # final masked using bitwise 'AND' with image\n",
    "    final_masked = cv2.bitwise_and(processed_img, processed_img, masked)\n",
    "    \n",
    "    return final_masked"
   ]
  },
  {
   "cell_type": "code",
   "execution_count": 18,
   "metadata": {},
   "outputs": [],
   "source": [
    "# return cropped image\n",
    "def region_of_interest(img, vertices):\n",
    "    mask = np.zeros_like(img)\n",
    "    # fill the mask\n",
    "    if len(img.shape) > 2:\n",
    "        channel_count = img.shape[2]  # i.e. 3 or 4 depending on your image\n",
    "        ignore_mask_color = (255,) * channel_count\n",
    "    else:\n",
    "        ignore_mask_color = 255\n",
    "        \n",
    "    cv2.fillPoly(mask, vertices, ignore_mask_color)\n",
    "    # now show area that is the mask\n",
    "    masked = cv2.bitwise_and(img, mask)\n",
    "    return masked"
   ]
  },
  {
   "cell_type": "code",
   "execution_count": null,
   "metadata": {},
   "outputs": [],
   "source": [
    "# slope matters too \n",
    "def get_slope(x1,y1,x2,y2):\n",
    "    # this is very useful in drawing lines\n",
    "    return (y2-y1)/(x2-x1)"
   ]
  },
  {
   "cell_type": "code",
   "execution_count": null,
   "metadata": {},
   "outputs": [],
   "source": [
    "# draws line on image\n",
    "def draw_lines(img, lines, color=[0,255,255], thickness=4):\n",
    "    # 'lines' is o/p from hough lines\n",
    "    # thickness of 4 would suffice ;-p\n",
    "    \n",
    "    '''\n",
    "    \n",
    "    '''\n",
    "    \n",
    "    "
   ]
  },
  {
   "cell_type": "code",
   "execution_count": null,
   "metadata": {},
   "outputs": [],
   "source": [
    "# hough lines\n",
    "def hough_lines(img, rho, theta, threshold, min_line_len, max_line_gap):\n",
    "    # here 'img' should be canny image\n",
    "    # return hough lines drawn\n",
    "    lines = cv2.HoughLinesP(img, rho, theta, threshold, np.array([]), \n",
    "                            minLineLength=min_line_len, maxLineGap=max_line_gap)\n",
    "    # line_img\n",
    "    line_img = np.zeros((img.shape[0], img.shape[1], 3), dtype=np.uint8)\n",
    "    \n",
    "    # draw line funcn:\n",
    "    draw_lines(line_img,lines)\n",
    "    return line_img"
   ]
  },
  {
   "cell_type": "code",
   "execution_count": 19,
   "metadata": {},
   "outputs": [],
   "source": [
    "def process_img(img):\n",
    "    # resize our image to 800x640 for future purpose ;)\n",
    "    dim = (800,640)\n",
    "    img = cv2.resize(img,dim, interpolation = cv2.INTER_AREA)\n",
    "    # lets convert our image to RGB instead of BGR\n",
    "    processed_img = cv2.cvtColor(img, cv2.COLOR_BGR2RGB)\n",
    "    \n",
    "    # save og image for future\n",
    "    og_img = processed_img\n",
    "    \n",
    "    # get filtered image\n",
    "    processed_img = filter_image(processed_img)\n",
    "    \n",
    "    # apply guassian blur\n",
    "    kernelsize=5\n",
    "    processed_img = blur_image(processed_img, kernelsize)\n",
    "    \n",
    "    # apply Canny effect\n",
    "    low_thresh = 50\n",
    "    high_thresh = 150\n",
    "    \n",
    "    processed_img = canny_image(processed_img, low_thresh, high_thresh)\n",
    "    \n",
    "    # region of interest on image\n",
    "    lower_left = [50,600]\n",
    "    lower_right = [750,600]\n",
    "    top_left = [100,400]\n",
    "    top_right = [700,400]\n",
    "    \n",
    "    # dont forget that vertices is array of array took me 2hrs to solve this problem\n",
    "    vertices = [np.array([lower_left,top_left,top_right,lower_right],dtype=np.int32)]\n",
    "    processed_img = region_of_interest(processed_img, vertices)\n",
    "    \n",
    "    # show processed image\n",
    "    return processed_img"
   ]
  },
  {
   "cell_type": "code",
   "execution_count": 20,
   "metadata": {},
   "outputs": [
    {
     "name": "stdout",
     "output_type": "stream",
     "text": [
      " Image Dimensions : (640, 800)\n"
     ]
    },
    {
     "data": {
      "image/png": "[encoded data removed]",
      "text/plain": [
       "<Figure size 864x576 with 1 Axes>"
      ]
     },
     "metadata": {
      "needs_background": "light"
     },
     "output_type": "display_data"
    }
   ],
   "source": [
    "img = cv2.imread('images/solidYellowLeft.jpg')\n",
    "processed_img = process_img(img)\n",
    "show_image(processed_img, cmap='gray')"
   ]
  },
  {
   "cell_type": "code",
   "execution_count": null,
   "metadata": {},
   "outputs": [],
   "source": []
  }
 ],
 "metadata": {
  "kernelspec": {
   "display_name": "Python 3",
   "language": "python",
   "name": "python3"
  },
  "language_info": {
   "codemirror_mode": {
    "name": "ipython",
    "version": 3
   },
   "file_extension": ".py",
   "mimetype": "text/x-python",
   "name": "python",
   "nbconvert_exporter": "python",
   "pygments_lexer": "ipython3",
   "version": "3.6.6"
  }
 },
 "nbformat": 4,
 "nbformat_minor": 2
}
